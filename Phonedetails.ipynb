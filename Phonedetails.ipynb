{
  "nbformat": 4,
  "nbformat_minor": 0,
  "metadata": {
    "colab": {
      "name": "Phonedetails.ipynb",
      "provenance": [],
      "authorship_tag": "ABX9TyOxbWp5pLIqYyKBUuHlVm3f",
      "include_colab_link": true
    },
    "kernelspec": {
      "name": "python3",
      "display_name": "Python 3"
    }
  },
  "cells": [
    {
      "cell_type": "markdown",
      "metadata": {
        "id": "view-in-github",
        "colab_type": "text"
      },
      "source": [
        "<a href=\"https://colab.research.google.com/github/AdejokeOgundipe/Machine-Learning/blob/master/Phonedetails.ipynb\" target=\"_parent\"><img src=\"https://colab.research.google.com/assets/colab-badge.svg\" alt=\"Open In Colab\"/></a>"
      ]
    },
    {
      "cell_type": "code",
      "metadata": {
        "colab": {
          "base_uri": "https://localhost:8080/"
        },
        "id": "kU30XkvYEOzX",
        "outputId": "473807c4-05a7-4304-e8cf-4582c86bc947"
      },
      "source": [
        "pip install phonenumbers\n"
      ],
      "execution_count": 6,
      "outputs": [
        {
          "output_type": "stream",
          "text": [
            "Requirement already satisfied: phonenumbers in /usr/local/lib/python3.6/dist-packages (8.12.13)\n"
          ],
          "name": "stdout"
        }
      ]
    },
    {
      "cell_type": "code",
      "metadata": {
        "colab": {
          "base_uri": "https://localhost:8080/"
        },
        "id": "gR0F4Xh7H362",
        "outputId": "6c35e617-2f31-4759-b400-316e8b1d5009"
      },
      "source": [
        "import phonenumbers\n",
        "from phonenumbers import geocoder\n",
        "phone_number1 = phonenumbers.parse(\"+447894445846\")\n",
        "print(geocoder.description_for_number(phone_number1, \"en\"))"
      ],
      "execution_count": 20,
      "outputs": [
        {
          "output_type": "stream",
          "text": [
            "United Kingdom\n"
          ],
          "name": "stdout"
        }
      ]
    },
    {
      "cell_type": "code",
      "metadata": {
        "colab": {
          "base_uri": "https://localhost:8080/"
        },
        "id": "f4wL8ijqL7-t",
        "outputId": "7807e8c0-eb40-480f-a8de-9e190020b320"
      },
      "source": [
        "from phonenumbers import carrier\n",
        "\n",
        "service_provider = phonenumbers.parse(\"+2348137419647\",\"RO\")\n",
        "print(carrier.name_for_number(service_provider, \"en\"))"
      ],
      "execution_count": 21,
      "outputs": [
        {
          "output_type": "stream",
          "text": [
            "MTN\n"
          ],
          "name": "stdout"
        }
      ]
    }
  ]
}